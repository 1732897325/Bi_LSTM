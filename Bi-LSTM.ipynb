{
 "cells": [
  {
   "cell_type": "code",
   "execution_count": 5,
   "id": "initial_id",
   "metadata": {
    "collapsed": true,
    "ExecuteTime": {
     "end_time": "2023-10-23T11:58:58.946181Z",
     "start_time": "2023-10-23T11:58:50.743992Z"
    }
   },
   "outputs": [
    {
     "name": "stdout",
     "output_type": "stream",
     "text": [
      "Epoch 1/10\n",
      "1/1 [==============================] - 6s 6s/step - loss: 0.6938 - accuracy: 0.3333 - val_loss: 0.7040 - val_accuracy: 0.0000e+00\n",
      "Epoch 2/10\n",
      "1/1 [==============================] - 0s 31ms/step - loss: 0.6893 - accuracy: 0.6667 - val_loss: 0.7147 - val_accuracy: 0.0000e+00\n",
      "Epoch 3/10\n",
      "1/1 [==============================] - 0s 31ms/step - loss: 0.6847 - accuracy: 0.6667 - val_loss: 0.7259 - val_accuracy: 0.0000e+00\n",
      "Epoch 4/10\n",
      "1/1 [==============================] - 0s 32ms/step - loss: 0.6800 - accuracy: 0.6667 - val_loss: 0.7382 - val_accuracy: 0.0000e+00\n",
      "Epoch 5/10\n",
      "1/1 [==============================] - 0s 36ms/step - loss: 0.6751 - accuracy: 0.6667 - val_loss: 0.7518 - val_accuracy: 0.0000e+00\n",
      "Epoch 6/10\n",
      "1/1 [==============================] - 0s 32ms/step - loss: 0.6697 - accuracy: 0.6667 - val_loss: 0.7671 - val_accuracy: 0.0000e+00\n",
      "Epoch 7/10\n",
      "1/1 [==============================] - 0s 33ms/step - loss: 0.6638 - accuracy: 0.6667 - val_loss: 0.7845 - val_accuracy: 0.0000e+00\n",
      "Epoch 8/10\n",
      "1/1 [==============================] - 0s 35ms/step - loss: 0.6572 - accuracy: 0.6667 - val_loss: 0.8045 - val_accuracy: 0.0000e+00\n",
      "Epoch 9/10\n",
      "1/1 [==============================] - 0s 35ms/step - loss: 0.6499 - accuracy: 0.6667 - val_loss: 0.8277 - val_accuracy: 0.0000e+00\n",
      "Epoch 10/10\n",
      "1/1 [==============================] - 0s 39ms/step - loss: 0.6417 - accuracy: 0.6667 - val_loss: 0.8548 - val_accuracy: 0.0000e+00\n",
      "1/1 [==============================] - 1s 1s/step\n",
      "[[0.55445606]]\n"
     ]
    }
   ],
   "source": [
    "import numpy as np\n",
    "from tensorflow.keras.models import Sequential\n",
    "from tensorflow.keras.layers import Embedding, Bidirectional, LSTM, Dense\n",
    "from tensorflow.keras.preprocessing.text import Tokenizer\n",
    "from tensorflow.keras.preprocessing.sequence import pad_sequences\n",
    "from sklearn.model_selection import train_test_split\n",
    "\n",
    "# 准备数据\n",
    "texts = [\"I love this movie\", \"This movie is great\", \"I dislike this movie\", \"This movie is terrible\"]\n",
    "labels = [1, 1, 0, 0]\n",
    "\n",
    "# 文本预处理\n",
    "tokenizer = Tokenizer()\n",
    "tokenizer.fit_on_texts(texts)\n",
    "sequences = tokenizer.texts_to_sequences(texts)\n",
    "vocab_size = len(tokenizer.word_index) + 1\n",
    "max_seq_length = max([len(seq) for seq in sequences])\n",
    "\n",
    "# 序列填充\n",
    "padded_sequences = pad_sequences(sequences, maxlen=max_seq_length)\n",
    "\n",
    "# 划分训练集和测试集\n",
    "x_train, x_test, y_train, y_test = train_test_split(padded_sequences, labels, test_size=0.2)\n",
    "\n",
    "# 构建Bi-LSTM模型\n",
    "model = Sequential()\n",
    "model.add(Embedding(input_dim=vocab_size, output_dim=100, input_length=max_seq_length))\n",
    "model.add(Bidirectional(LSTM(units=64, return_sequences=True)))\n",
    "model.add(Bidirectional(LSTM(units=32)))\n",
    "model.add(Dense(1, activation='sigmoid'))\n",
    "\n",
    "# 编译模型\n",
    "model.compile(optimizer='adam', loss='binary_crossentropy', metrics=['accuracy'])\n",
    "\n",
    "# 训练模型\n",
    "model.fit(np.array(x_train), np.array(y_train), batch_size=16, epochs=10, validation_data=(np.array(x_test), np.array(y_test)))\n",
    "\n",
    "# 使用模型进行预测\n",
    "test_sequences = tokenizer.texts_to_sequences([\"This movie is amazing\"])\n",
    "test_data = pad_sequences(test_sequences, maxlen=max_seq_length)\n",
    "prediction = model.predict(np.array(test_data))\n",
    "print(prediction)"
   ]
  },
  {
   "cell_type": "code",
   "execution_count": 10,
   "outputs": [
    {
     "name": "stdout",
     "output_type": "stream",
     "text": [
      "图中的节点数量： 1155\n",
      "图中的边数量： 458013\n"
     ]
    },
    {
     "ename": "KeyboardInterrupt",
     "evalue": "",
     "output_type": "error",
     "traceback": [
      "\u001B[0;31m---------------------------------------------------------------------------\u001B[0m",
      "\u001B[0;31mKeyboardInterrupt\u001B[0m                         Traceback (most recent call last)",
      "Cell \u001B[0;32mIn[10], line 44\u001B[0m\n\u001B[1;32m     41\u001B[0m nx\u001B[38;5;241m.\u001B[39mdraw(G, with_labels\u001B[38;5;241m=\u001B[39m\u001B[38;5;28;01mTrue\u001B[39;00m)\n\u001B[1;32m     43\u001B[0m \u001B[38;5;66;03m# 显示图形\u001B[39;00m\n\u001B[0;32m---> 44\u001B[0m \u001B[43mplt\u001B[49m\u001B[38;5;241;43m.\u001B[39;49m\u001B[43mshow\u001B[49m\u001B[43m(\u001B[49m\u001B[43m)\u001B[49m\n",
      "File \u001B[0;32m~/PycharmProjects/pythonProject2/venv/lib/python3.9/site-packages/matplotlib/pyplot.py:527\u001B[0m, in \u001B[0;36mshow\u001B[0;34m(*args, **kwargs)\u001B[0m\n",
      "File \u001B[0;32m~/PycharmProjects/pythonProject2/venv/lib/python3.9/site-packages/matplotlib_inline/backend_inline.py:90\u001B[0m, in \u001B[0;36mshow\u001B[0;34m(close, block)\u001B[0m\n",
      "File \u001B[0;32m~/PycharmProjects/pythonProject2/venv/lib/python3.9/site-packages/IPython/core/display_functions.py:298\u001B[0m, in \u001B[0;36mdisplay\u001B[0;34m(include, exclude, metadata, transient, display_id, raw, clear, *objs, **kwargs)\u001B[0m\n",
      "File \u001B[0;32m~/PycharmProjects/pythonProject2/venv/lib/python3.9/site-packages/IPython/core/formatters.py:179\u001B[0m, in \u001B[0;36mformat\u001B[0;34m(self, obj, include, exclude)\u001B[0m\n",
      "File \u001B[0;32m~/PycharmProjects/pythonProject2/venv/lib/python3.9/site-packages/decorator.py:232\u001B[0m, in \u001B[0;36mfun\u001B[0;34m(*args, **kw)\u001B[0m\n",
      "File \u001B[0;32m~/PycharmProjects/pythonProject2/venv/lib/python3.9/site-packages/IPython/core/formatters.py:223\u001B[0m, in \u001B[0;36mcatch_format_error\u001B[0;34m(method, self, *args, **kwargs)\u001B[0m\n",
      "File \u001B[0;32m~/PycharmProjects/pythonProject2/venv/lib/python3.9/site-packages/IPython/core/formatters.py:340\u001B[0m, in \u001B[0;36m__call__\u001B[0;34m(self, obj)\u001B[0m\n",
      "File \u001B[0;32m~/PycharmProjects/pythonProject2/venv/lib/python3.9/site-packages/IPython/core/pylabtools.py:152\u001B[0m, in \u001B[0;36mprint_figure\u001B[0;34m(fig, fmt, bbox_inches, base64, **kwargs)\u001B[0m\n",
      "File \u001B[0;32m~/PycharmProjects/pythonProject2/venv/lib/python3.9/site-packages/matplotlib/backend_bases.py:2187\u001B[0m, in \u001B[0;36mprint_figure\u001B[0;34m(self, filename, dpi, facecolor, edgecolor, orientation, format, bbox_inches, pad_inches, bbox_extra_artists, backend, **kwargs)\u001B[0m\n",
      "File \u001B[0;32m~/PycharmProjects/pythonProject2/venv/lib/python3.9/site-packages/matplotlib/backend_bases.py:2043\u001B[0m, in \u001B[0;36m<lambda>\u001B[0;34m(*args, **kwargs)\u001B[0m\n",
      "File \u001B[0;32m~/PycharmProjects/pythonProject2/venv/lib/python3.9/site-packages/matplotlib/backends/backend_agg.py:497\u001B[0m, in \u001B[0;36mprint_png\u001B[0;34m(self, filename_or_obj, metadata, pil_kwargs)\u001B[0m\n",
      "File \u001B[0;32m~/PycharmProjects/pythonProject2/venv/lib/python3.9/site-packages/matplotlib/backends/backend_agg.py:445\u001B[0m, in \u001B[0;36m_print_pil\u001B[0;34m(self, filename_or_obj, fmt, pil_kwargs, metadata)\u001B[0m\n",
      "File \u001B[0;32m~/PycharmProjects/pythonProject2/venv/lib/python3.9/site-packages/matplotlib/backends/backend_agg.py:388\u001B[0m, in \u001B[0;36mdraw\u001B[0;34m(self)\u001B[0m\n",
      "File \u001B[0;32m~/PycharmProjects/pythonProject2/venv/lib/python3.9/site-packages/matplotlib/artist.py:95\u001B[0m, in \u001B[0;36mdraw_wrapper\u001B[0;34m(artist, renderer, *args, **kwargs)\u001B[0m\n",
      "File \u001B[0;32m~/PycharmProjects/pythonProject2/venv/lib/python3.9/site-packages/matplotlib/artist.py:72\u001B[0m, in \u001B[0;36mdraw_wrapper\u001B[0;34m(artist, renderer)\u001B[0m\n",
      "File \u001B[0;32m~/PycharmProjects/pythonProject2/venv/lib/python3.9/site-packages/matplotlib/figure.py:3154\u001B[0m, in \u001B[0;36mdraw\u001B[0;34m(self, renderer)\u001B[0m\n",
      "File \u001B[0;32m~/PycharmProjects/pythonProject2/venv/lib/python3.9/site-packages/matplotlib/image.py:132\u001B[0m, in \u001B[0;36m_draw_list_compositing_images\u001B[0;34m(renderer, parent, artists, suppress_composite)\u001B[0m\n",
      "File \u001B[0;32m~/PycharmProjects/pythonProject2/venv/lib/python3.9/site-packages/matplotlib/artist.py:72\u001B[0m, in \u001B[0;36mdraw_wrapper\u001B[0;34m(artist, renderer)\u001B[0m\n",
      "File \u001B[0;32m~/PycharmProjects/pythonProject2/venv/lib/python3.9/site-packages/matplotlib/axes/_base.py:3070\u001B[0m, in \u001B[0;36mdraw\u001B[0;34m(self, renderer)\u001B[0m\n",
      "File \u001B[0;32m~/PycharmProjects/pythonProject2/venv/lib/python3.9/site-packages/matplotlib/image.py:132\u001B[0m, in \u001B[0;36m_draw_list_compositing_images\u001B[0;34m(renderer, parent, artists, suppress_composite)\u001B[0m\n",
      "File \u001B[0;32m~/PycharmProjects/pythonProject2/venv/lib/python3.9/site-packages/matplotlib/artist.py:39\u001B[0m, in \u001B[0;36mdraw_wrapper\u001B[0;34m(artist, renderer, *args, **kwargs)\u001B[0m\n",
      "File \u001B[0;32m~/PycharmProjects/pythonProject2/venv/lib/python3.9/site-packages/matplotlib/patches.py:4380\u001B[0m, in \u001B[0;36mdraw\u001B[0;34m(self, renderer)\u001B[0m\n",
      "File \u001B[0;32m~/PycharmProjects/pythonProject2/venv/lib/python3.9/site-packages/matplotlib/patches.py:4364\u001B[0m, in \u001B[0;36m_get_path_in_displaycoord\u001B[0;34m(self)\u001B[0m\n",
      "File \u001B[0;32m~/PycharmProjects/pythonProject2/venv/lib/python3.9/site-packages/matplotlib/patches.py:3199\u001B[0m, in \u001B[0;36m__call__\u001B[0;34m(self, path, mutation_size, linewidth, aspect_ratio)\u001B[0m\n",
      "File \u001B[0;32m~/PycharmProjects/pythonProject2/venv/lib/python3.9/site-packages/matplotlib/patches.py:3199\u001B[0m, in \u001B[0;36m<listcomp>\u001B[0;34m(.0)\u001B[0m\n",
      "File \u001B[0;32m~/PycharmProjects/pythonProject2/venv/lib/python3.9/site-packages/matplotlib/path.py:130\u001B[0m, in \u001B[0;36m__init__\u001B[0;34m(self, vertices, codes, _interpolation_steps, closed, readonly)\u001B[0m\n",
      "File \u001B[0;32m~/PycharmProjects/pythonProject2/venv/lib/python3.9/site-packages/matplotlib/_api/__init__.py:152\u001B[0m, in \u001B[0;36mcheck_shape\u001B[0;34m(shape, **kwargs)\u001B[0m\n",
      "\u001B[0;31mKeyboardInterrupt\u001B[0m: "
     ]
    }
   ],
   "source": [
    "import pandas as pd\n",
    "import networkx as nx\n",
    "import matplotlib.pyplot as plt\n",
    "\n",
    "# 读取train_90.csv文件\n",
    "df = pd.read_csv('train_90.csv')\n",
    "\n",
    "# 读取边文件\n",
    "edges = pd.read_csv('edge_90.csv')\n",
    "\n",
    "# 创建一个空的有向图\n",
    "G = nx.DiGraph()\n",
    "\n",
    "# 遍历每一行数据\n",
    "for i in range(len(df)):\n",
    "    geohash_id = df.loc[i, 'geohash_id']\n",
    "    date_id = df.loc[i, 'date_id']\n",
    "\n",
    "    # 添加节点\n",
    "    G.add_node(geohash_id)\n",
    "\n",
    "    # 添加节点属性\n",
    "    node_attrs = {f'F_{j+1}': df.loc[i, f'F_{j+1}'] for j in range(35)}\n",
    "    G.nodes[geohash_id].update(node_attrs)\n",
    "\n",
    "# 添加边到图中\n",
    "for index, row in edges.iterrows():\n",
    "    G.add_edge(row['geohash6_point1'], row['geohash6_point2'], weight_f1=row['F_1'], weight_f2=row['F_2'])\n",
    "\n",
    "# 添加节点属性\n",
    "active_index = {row.geohash_id: row.active_index for row in df.itertuples(index=False)}\n",
    "consume_index = {row.geohash_id: row.consume_index for row in df.itertuples(index=False)}\n",
    "nx.set_node_attributes(G, active_index, 'active_index')\n",
    "nx.set_node_attributes(G, consume_index, 'consume_index')\n",
    "\n",
    "# 打印图的节点和边数量\n",
    "print(\"图中的节点数量：\", G.number_of_nodes())\n",
    "print(\"图中的边数量：\", G.number_of_edges())\n",
    "\n",
    "# 创建词嵌入模型并生成栅格特征的向量表示\n",
    "# 获取所有栅格特征\n",
    "grid_features = [dict(G.nodes[geohash_id]) for geohash_id in G.nodes()]\n",
    "\n",
    "# 训练词嵌入模型\n",
    "model = Word2Vec(grid_features, size=100, window=5, min_count=1, workers=4)\n",
    "\n",
    "# 将栅格特征转换为向量表示\n",
    "for geohash_id in G.nodes():\n",
    "    G.nodes[geohash_id]['embedding'] = model.wv[geohash_id]\n",
    "# 绘制有向图\n",
    "nx.draw(G, with_labels=True)\n",
    "\n",
    "# 显示图形\n",
    "plt.show()"
   ],
   "metadata": {
    "collapsed": false,
    "ExecuteTime": {
     "end_time": "2023-10-23T13:32:02.327988Z",
     "start_time": "2023-10-23T13:13:47.452270Z"
    }
   },
   "id": "a8f6367e1bf4a3d0"
  }
 ],
 "metadata": {
  "kernelspec": {
   "display_name": "Python 3",
   "language": "python",
   "name": "python3"
  },
  "language_info": {
   "codemirror_mode": {
    "name": "ipython",
    "version": 2
   },
   "file_extension": ".py",
   "mimetype": "text/x-python",
   "name": "python",
   "nbconvert_exporter": "python",
   "pygments_lexer": "ipython2",
   "version": "2.7.6"
  }
 },
 "nbformat": 4,
 "nbformat_minor": 5
}
